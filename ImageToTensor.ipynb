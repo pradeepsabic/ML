{
 "cells": [
  {
   "cell_type": "code",
   "execution_count": 1,
   "id": "03fc7b9e-e4aa-44a2-bca2-098f579e6ad6",
   "metadata": {},
   "outputs": [
    {
     "ename": "ModuleNotFoundError",
     "evalue": "No module named 'torchvision'",
     "output_type": "error",
     "traceback": [
      "\u001b[1;31m---------------------------------------------------------------------------\u001b[0m",
      "\u001b[1;31mModuleNotFoundError\u001b[0m                       Traceback (most recent call last)",
      "Cell \u001b[1;32mIn[1], line 1\u001b[0m\n\u001b[1;32m----> 1\u001b[0m \u001b[38;5;28;01mfrom\u001b[39;00m \u001b[38;5;21;01mtorchvision\u001b[39;00m\u001b[38;5;21;01m.\u001b[39;00m\u001b[38;5;21;01mtransforms\u001b[39;00m \u001b[38;5;28;01mimport\u001b[39;00m ToTensor\n\u001b[0;32m      2\u001b[0m \u001b[38;5;28;01mfrom\u001b[39;00m \u001b[38;5;21;01mPIL\u001b[39;00m \u001b[38;5;28;01mimport\u001b[39;00m Image\n\u001b[0;32m      4\u001b[0m \u001b[38;5;66;03m# Load an image using PIL\u001b[39;00m\n",
      "\u001b[1;31mModuleNotFoundError\u001b[0m: No module named 'torchvision'"
     ]
    }
   ],
   "source": [
    "from torchvision.transforms import ToTensor\n",
    "from PIL import Image\n",
    "\n",
    "# Load an image using PIL\n",
    "image = Image.open('pradeep.jpg')\n",
    "\n",
    "# Convert the image to a PyTorch tensor\n",
"#
"#ToTensor()(image): This line converts the PIL image to a PyTorch tensor. The ToTensor() transform converts the image to a tensor of shape (C, H, W), where:,
"#C is the number of color channels (3 for RGB images).,
"#H is the height of the image.,
"#W is the width of the image.,
"#The pixel values are also normalized to the range [0, 1] from [0, 255].''',
    "tensor_image = ToTensor()(image)\n",
    "tensor_image"
   ]
  },
  {
   "cell_type": "code",
   "execution_count": null,
   "id": "f7f83b18-3d7a-4980-979e-ec66f182c28e",
   "metadata": {},
   "outputs": [],
   "source": []
  }
 ],
 "metadata": {
  "kernelspec": {
   "display_name": "Python 3 (ipykernel)",
   "language": "python",
   "name": "python3"
  },
  "language_info": {
   "codemirror_mode": {
    "name": "ipython",
    "version": 3
   },
   "file_extension": ".py",
   "mimetype": "text/x-python",
   "name": "python",
   "nbconvert_exporter": "python",
   "pygments_lexer": "ipython3",
   "version": "3.12.4"
  }
 },
 "nbformat": 4,
 "nbformat_minor": 5
}
